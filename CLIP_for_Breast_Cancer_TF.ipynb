{
 "cells": [
  {
   "cell_type": "code",
   "execution_count": null,
   "id": "backed-equality",
   "metadata": {},
   "outputs": [],
   "source": [
    "import tensorflow as tf\n",
    "import tensorflow_hub as hub\n",
    "import tensorflow_text as text\n",
    "import numpy as np\n",
    "import matplotlib.pyplot as plt\n",
    "from PIL import Image\n",
    "\n",
    "# Load the CLIP model from TensorFlow Hub\n",
    "clip_model = hub.load(\"https://tfhub.dev/google/imagenet/clip_rn50/feature_vector/1\")\n",
    "\n",
    "# Define class labels for breast cancer classification\n",
    "labels = [\"benign\", \"malignant\"]\n",
    "\n",
    "# Function to preprocess images\n",
    "def preprocess_image(image_path):\n",
    "    image = Image.open(image_path).resize((224, 224))\n",
    "    image = np.array(image) / 255.0\n",
    "    return tf.expand_dims(image, axis=0)\n",
    "\n",
    "# Load and preprocess an example breast cancer image\n",
    "image_path = \"breast_cancer_sample.jpg\"\n",
    "image_tensor = preprocess_image(image_path)\n",
    "\n",
    "# Encode the image using CLIP\n",
    "image_features = clip_model(image_tensor)\n",
    "\n",
    "# Encode text descriptions\n",
    "text_inputs = tf.constant([f\"A histopathology image of {label}\" for label in labels])\n",
    "text_features = clip_model.signatures['default'](text_inputs)['default']\n",
    "\n",
    "# Normalize feature vectors\n",
    "image_features = tf.nn.l2_normalize(image_features, axis=-1)\n",
    "text_features = tf.nn.l2_normalize(text_features, axis=-1)\n",
    "\n",
    "# Compute similarity scores (cosine similarity)\n",
    "similarity = tf.linalg.matmul(image_features, text_features, transpose_b=True)\n",
    "\n",
    "# Find the most likely class\n",
    "predicted_label = labels[np.argmax(similarity.numpy())]\n",
    "\n",
    "# Print classification result\n",
    "print(f\"Predicted Class: {predicted_label}\")\n",
    "\n",
    "# Display similarity scores\n",
    "for label, score in zip(labels, similarity.numpy()[0]):\n",
    "    print(f\"{label}: {score:.4f}\")\n"
   ]
  }
 ],
 "metadata": {
  "kernelspec": {
   "display_name": "Python 3 (ipykernel)",
   "language": "python",
   "name": "python3"
  },
  "language_info": {
   "codemirror_mode": {
    "name": "ipython",
    "version": 3
   },
   "file_extension": ".py",
   "mimetype": "text/x-python",
   "name": "python",
   "nbconvert_exporter": "python",
   "pygments_lexer": "ipython3",
   "version": "3.12.0"
  }
 },
 "nbformat": 4,
 "nbformat_minor": 5
}
